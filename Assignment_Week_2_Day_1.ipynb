{
  "nbformat": 4,
  "nbformat_minor": 0,
  "metadata": {
    "colab": {
      "provenance": [],
      "include_colab_link": true
    },
    "kernelspec": {
      "name": "python3",
      "display_name": "Python 3"
    },
    "language_info": {
      "name": "python"
    }
  },
  "cells": [
    {
      "cell_type": "markdown",
      "metadata": {
        "id": "view-in-github",
        "colab_type": "text"
      },
      "source": [
        "<a href=\"https://colab.research.google.com/github/tushar2411/AlmaX-Assignments/blob/main/Assignment_Week_2_Day_1.ipynb\" target=\"_parent\"><img src=\"https://colab.research.google.com/assets/colab-badge.svg\" alt=\"Open In Colab\"/></a>"
      ]
    },
    {
      "cell_type": "markdown",
      "source": [
        "#**MATH**"
      ],
      "metadata": {
        "id": "Nc0FVBPEpyqY"
      }
    },
    {
      "cell_type": "markdown",
      "source": [
        "## 1. It has been determined that 5% of drivers checked at a road stop show traces of alcohol and 10% of drivers checked do not wear seat belts. In addition, it has been observed that the two infractions are independent from one another. If an officer stops five drivers at random:\n",
        "\n",
        "## -- Calculate the probability that exactly three of the drivers have committed any one of the two offenses.\n",
        "\n",
        "## -- Calculate the probability that at least one of the drivers checked has committed at least one of the two offenses.\n",
        "\n",
        "**Solve this on a piece of paper and submit the image.**"
      ],
      "metadata": {
        "id": "dpXwS4Avp-0P"
      }
    },
    {
      "cell_type": "markdown",
      "source": [
        "Upload your answer here."
      ],
      "metadata": {
        "id": "6Z-YygUWqEgT"
      }
    },
    {
      "cell_type": "markdown",
      "source": [
        "## 2. As only 3 students came to attend the class today, find the probability for exactly 4 students to attend the classes tomorrow.\n",
        "\n",
        "**Solve this on a piece of paper and submit the image.**"
      ],
      "metadata": {
        "id": "muhgTIkfqOeR"
      }
    },
    {
      "cell_type": "markdown",
      "source": [
        "Upload your answer here."
      ],
      "metadata": {
        "id": "WwCWSp9xqTH_"
      }
    },
    {
      "cell_type": "markdown",
      "source": [
        "## 3. The average number of acres burned by forest and range fires in a large New Mexico county is 4,300 acres per year, with a standard deviation of 750 acres. The distribution of the number of acres burned is normal.\n",
        "## What is the probability that between 2,500 and 4,200 acres will be burned in any given year? "
      ],
      "metadata": {
        "id": "XNrRpBfoqhkp"
      }
    },
    {
      "cell_type": "markdown",
      "source": [
        "Upload your answer here."
      ],
      "metadata": {
        "id": "Xs9HsOPfqml_"
      }
    },
    {
      "cell_type": "markdown",
      "source": [
        "## 4. The number of miles that a particular car can run before its battery wears out is exponentially distributed with an average of 10,000 miles. The owner of the car needs to take a 5000-mile trip. What is the probability that he will be able to complete the trip without having to replace the car battery?"
      ],
      "metadata": {
        "id": "r-YMqcTyqpqD"
      }
    },
    {
      "cell_type": "markdown",
      "source": [
        "Upload your answer here."
      ],
      "metadata": {
        "id": "CGIbGzF8qt31"
      }
    },
    {
      "cell_type": "markdown",
      "source": [
        "# **MACHINE LEARNING**\n"
      ],
      "metadata": {
        "id": "-RxcCDLjq3rV"
      }
    },
    {
      "cell_type": "markdown",
      "source": [
        "## 1. Why is Logistic Regression termed as Regression and not classification?"
      ],
      "metadata": {
        "id": "z5cye53Dq8a1"
      }
    },
    {
      "cell_type": "markdown",
      "source": [
        "Logistic Regression is actually a classification algorithm, despite its name containing the term \"Regression.\" The reason for this is that Logistic Regression is based on the framework of linear regression.\n",
        "\n",
        "In Linear Regression, the goal is to predict a continuous numerical value, which is the dependent variable, based on one or more independent variables. The model fits a straight line to the data points to minimize the sum of squared errors between the predicted values and the actual values.\n",
        "\n",
        "In Logistic Regression, the dependent variable is binary, i.e., it can only take one of two possible values, usually represented as 0 and 1. The goal is to predict the probability that the outcome variable belongs to a certain class. Logistic Regression is used to model the relationship between the independent variables and the probability of the dependent variable being in a particular category.\n",
        "\n",
        "However, Logistic Regression still uses a form of regression to model the relationship between the dependent and independent variables. The term \"regression\" in Logistic Regression refers to the process of fitting a function to the data to make predictions, rather than the specific task of predicting a continuous value."
      ],
      "metadata": {
        "id": "8WZIkWQEq_x3"
      }
    },
    {
      "cell_type": "markdown",
      "source": [
        "## 2. Why can’t we use Mean Square Error (MSE) as a cost function for Logistic Regression?"
      ],
      "metadata": {
        "id": "SmfZ4PqfrE-g"
      }
    },
    {
      "cell_type": "markdown",
      "source": [
        "Mean Square Error (MSE) is a cost function that is commonly used in linear regression. It is defined as the average of the squared differences between the predicted and actual values of the dependent variable. However, MSE cannot be used as a cost function for logistic regression because the output of logistic regression is a probability, not a continuous value.\n",
        "\n",
        "In logistic regression, the predicted output is a probability value that is bounded between 0 and 1, representing the likelihood of the input belonging to one of the classes. The logistic regression model uses the sigmoid function to convert the output of a linear combination of the input features into a probability value. The sigmoid function ensures that the output is always between 0 and 1.\n",
        "\n",
        "Using MSE as a cost function for logistic regression would result in a non-convex optimization problem, making it difficult to optimize the parameters of the model. Instead, logistic regression uses the log loss or cross-entropy loss function as the cost function. The log loss function penalizes the model for incorrect predictions by increasing the cost exponentially as the predicted probability moves away from the actual label, thus allowing the model to learn from its mistakes and improve its predictions."
      ],
      "metadata": {
        "id": "IIirZqwbrGXO"
      }
    },
    {
      "cell_type": "markdown",
      "source": [
        "## 3. What do you understand by Pruning in a Decision Tree and Why do we require Pruning in Decision Trees? Explain."
      ],
      "metadata": {
        "id": "H4hFzmngrN4g"
      }
    },
    {
      "cell_type": "markdown",
      "source": [
        "Pruning is a technique used in decision tree algorithms to reduce the size of the tree by removing unnecessary branches or nodes that do not contribute much to the accuracy of the model. The purpose of pruning is to prevent overfitting, which occurs when the model becomes too complex and fits the training data too closely, resulting in poor generalization performance on new data.\n",
        "\n",
        "Decision trees are built by recursively splitting the dataset based on the feature that provides the most information gain or the best split. However, this process can lead to the creation of trees that are too large and complex, which can lead to overfitting.\n",
        "\n",
        "Pruning can be done in two ways: pre-pruning and post-pruning. Pre-pruning involves setting a limit on the depth of the tree, the minimum number of samples required to split a node, or the maximum number of leaf nodes allowed in the tree. Post-pruning, on the other hand, involves building the tree first and then removing the nodes that do not contribute much to the accuracy of the model."
      ],
      "metadata": {
        "id": "_Z1_0cX-rQcE"
      }
    },
    {
      "cell_type": "markdown",
      "source": [
        "## 4. What do you understand about Information Gain? Also, explain the mathematical formulation associated with it.\n"
      ],
      "metadata": {
        "id": "FZZCcREcrTDJ"
      }
    },
    {
      "cell_type": "markdown",
      "source": [
        "Information Gain is a metric used in Decision Trees to evaluate the importance of a given feature. It measures the reduction in entropy (or increase in purity) that results from splitting the data based on that feature. The higher the information gain, the more important the feature is considered to be.\n",
        "\n",
        "The mathematical formulation of information gain is based on the concept of entropy, which measures the level of impurity in a set of data. The entropy of a set S is defined as -p log2 p - (1-p) log2 (1-p), where p is the proportion of positive examples in S.\n",
        "\n",
        "To calculate information gain for a feature F, we first split the data into subsets based on the possible values of F. We then calculate the entropy of each subset, weighted by its proportion in the overall data. The information gain of feature F is the difference between the entropy of the original set and the weighted average of the entropies of the subsets.\n",
        "\n",
        "Information gain is a useful metric because it allows us to select the most informative features to split the data on, leading to a more accurate decision tree. However, it can also lead to overfitting if the tree becomes too complex, which is why pruning techniques are often used to limit the size of the tree."
      ],
      "metadata": {
        "id": "0ZlWsDc-rVlN"
      }
    }
  ]
}
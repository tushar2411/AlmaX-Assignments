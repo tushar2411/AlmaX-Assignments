{
  "nbformat": 4,
  "nbformat_minor": 0,
  "metadata": {
    "colab": {
      "provenance": [],
      "include_colab_link": true
    },
    "kernelspec": {
      "name": "python3",
      "display_name": "Python 3"
    },
    "language_info": {
      "name": "python"
    }
  },
  "cells": [
    {
      "cell_type": "markdown",
      "metadata": {
        "id": "view-in-github",
        "colab_type": "text"
      },
      "source": [
        "<a href=\"https://colab.research.google.com/github/tushar2411/AlmaX-Assignments/blob/main/Week_8_Assignment_Meesho_questions_bundle.ipynb\" target=\"_parent\"><img src=\"https://colab.research.google.com/assets/colab-badge.svg\" alt=\"Open In Colab\"/></a>"
      ]
    },
    {
      "cell_type": "markdown",
      "source": [
        "###Guidelines for assignment:\n",
        "\n",
        "1. Create a copy of this notebook in your drive and write down the answers to each question in your own words. Avoid plagiarism.\n",
        "2. Record a video of yourself answering these questions in a manner, (with your camera on) you would in an interview. The intention is not to read out the answer you have written. Understand the concept and explain it in your words as you would to an interviewer. You can use Zoom or similar applications to record your video.\n",
        "3. Upload the recorded video to your YouTube account as an **unlisted** video and share its link in the notebook along with solutions.\n",
        "You can refer to [this video](https://youtu.be/JOr7JluzEOM) for steps to unlist your video. "
      ],
      "metadata": {
        "id": "zRy1zWXy4_VF"
      }
    },
    {
      "cell_type": "markdown",
      "source": [
        "###**Case Study Question:**\n",
        "## **1. Summarise your understanding about the company's operations. What is Meesho's business model?**\n",
        "\n",
        "Meesho was founded in 2015 with the mission to empower small business owners, entrepreneurs and homemakers in India by providing them with a platform to start their own online businesses. The company's founders saw an opportunity to address a gap in the market, where many people had the desire and skills to start their own businesses, but lacked the resources and expertise to do so.\n",
        "\n",
        "Meesho's platform allows resellers to browse through a wide range of products from different suppliers, select the ones they want to sell, and promote them to their network via social media or other channels. Resellers can set their own prices and earn a commission on each sale they make. Meesho takes care of the rest, including product sourcing, inventory management, packaging, and delivery.\n",
        "\n",
        "For suppliers, Meesho provides access to a large and growing customer base of resellers. The company also takes care of logistics and payments, which can be a challenge for small and medium-sized suppliers operating in a highly fragmented market.\n",
        "\n",
        "Meesho's business model is built on the concept of social selling, which is a form of direct selling that relies on social networks and word-of-mouth marketing. Social selling has gained popularity in recent years, especially in emerging markets like India, where many people have access to social media but limited job opportunities.\n",
        "\n",
        "Meesho's platform has been successful in creating a new wave of entrepreneurs in India, particularly women who are looking for flexible and convenient ways to earn income. The company has also attracted significant investment from venture capitalists, with over $1 billion raised to date.\n",
        "\n",
        "Overall, Meesho's operations and business model represent a unique approach to e-commerce, one that is focused on empowering individuals and small businesses to create value in their communities.\n",
        "\n",
        "## **2. Conduct a SWOT- (Strengths, Weaknesses, Opportunities, Threats) analysis of the firm with respect to online retail industry.**\n",
        "\n",
        "Strengths:\n",
        "\n",
        "*   Unique business model: Meesho's platform enables social selling, which has proven to be a successful model for e-commerce in emerging markets.\n",
        "*   Strong network effects: As more resellers join Meesho's platform, it becomes more valuable to suppliers, creating a virtuous cycle of growth.\n",
        "* Scalability: Meesho's technology-enabled platform can scale quickly and efficiently, enabling the company to expand rapidly.\n",
        "* Low overhead costs: Meesho's business model is asset-light, with no inventory or physical stores, resulting in lower operating costs.\n",
        "\n",
        "Weaknesses:\n",
        "\n",
        "* Dependence on resellers: Meesho's business model is reliant on a large and growing network of resellers, which could be a vulnerability if these individuals decide to leave the platform.\n",
        "* Limited control over customer experience: Since resellers are the ones interacting with end customers, Meesho has limited control over the customer experience, which could impact the company's reputation.\n",
        "* Vulnerability to regulatory changes: As an e-commerce platform, Meesho is subject to regulatory changes that could impact its operations.\n",
        "\n",
        "Opportunities:\n",
        "* Growing e-commerce market in India: India's e-commerce market is expected to grow rapidly in the coming years, creating significant opportunities for Meesho.\n",
        "* Expansion into adjacent markets: Meesho could expand into adjacent markets, such as Southeast Asia, where social selling is also gaining traction.\n",
        "* Diversification of product offerings: Meesho could expand its product offerings beyond fashion and beauty products, which currently make up a large portion of its sales.\n",
        "\n",
        "Threats:\n",
        "\n",
        "* Intense competition: Meesho faces competition from other e-commerce platforms and social selling companies, both domestic and international.\n",
        "* Increasing customer acquisition costs: As the market becomes more crowded, Meesho may need to spend more on customer acquisition to maintain its growth trajectory.\n",
        "* Supply chain disruptions: Meesho's operations could be impacted by supply chain disruptions, such as delays or disruptions in shipping or inventory.\n",
        "\n",
        "\n",
        "\n",
        "\n",
        "##**3. You need to develop an ML model to help Meesho forecast its demand/sales? What would be your approach?**\n",
        "\n",
        "* Data Collection: Collect historical sales data from Meesho's platform, including information on product categories, prices, promotions, and other relevant factors that may affect demand.\n",
        "\n",
        "* Data Preprocessing: Preprocess the data to clean and transform it into a format suitable for training a machine learning model. This may include data cleaning, feature engineering, and scaling.\n",
        "\n",
        "* Model Selection: Select a suitable machine learning algorithm that can effectively predict demand based on historical data. This may include regression-based algorithms such as linear regression, decision trees, or more complex models such as neural networks.\n",
        "\n",
        "* Model Training: Train the selected machine learning model on the preprocessed data using appropriate techniques such as cross-validation and regularization to prevent overfitting.\n",
        "\n",
        "* Model Evaluation: Evaluate the trained model's performance on a holdout dataset using appropriate metrics such as mean absolute error or mean squared error.\n",
        "\n",
        "* Hyperparameter Tuning: Optimize the model's hyperparameters to improve its performance on the holdout dataset using techniques such as grid search or random search.\n",
        "\n",
        "* Model Deployment: Deploy the trained model in a production environment, such as Meesho's platform, to generate demand forecasts for different product categories and time periods.\n",
        "\n",
        "* Model Monitoring: Continuously monitor the model's performance in production and update it as necessary to improve its accuracy and robustness over time.\n",
        "\n",
        "The goal of this approach is to develop an accurate and scalable machine learning model that can help Meesho forecast its demand/sales, enabling the company to make better business decisions and optimize its operations.\n",
        "\n",
        "##**4. What are the features you would require to develop this model?**\n",
        "\n",
        "* Date/Time: The date and time of the transaction or order, which would help capture seasonality, trends, and other temporal patterns that may affect demand.\n",
        "\n",
        "* Product Category: The category of the product being sold, which would help capture differences in demand patterns across different product types.\n",
        "\n",
        "* Price: The price of the product, which would help capture the relationship between price and demand.\n",
        "\n",
        "* Promotion: Information on any promotions or discounts applied to the product, which would help capture the impact of promotional activities on demand.\n",
        "\n",
        "* Sales Channel: The channel through which the product was sold, such as the Meesho app or website, which would help capture differences in demand across different sales channels.\n",
        "\n",
        "* Customer Demographics: Information on customer demographics, such as age, gender, location, and past purchase history, which would help capture differences in demand across different customer segments.\n",
        "\n",
        "* Product Availability: Information on product availability, such as stock levels or lead times, which would help capture the impact of supply chain disruptions or delays on demand.\n",
        "\n",
        "* External Factors: Information on external factors that may affect demand, such as weather conditions, holidays, or economic indicators.\n",
        "\n",
        "##**5. How would you evaluate the performance of your model?**\n",
        "\n",
        "To evaluate the performance of the demand/sales forecasting model for Meesho, I would use a combination of statistical metrics and visualizations. Some of the commonly used metrics and techniques for evaluating the performance of such models include:\n",
        "\n",
        "* Mean Absolute Error (MAE): MAE measures the average absolute difference between the predicted and actual values, which indicates how accurate the model's predictions are.\n",
        "\n",
        "* Mean Squared Error (MSE): MSE measures the average squared difference between the predicted and actual values, which penalizes larger errors more heavily than smaller errors.\n",
        "\n",
        "* Root Mean Squared Error (RMSE): RMSE is the square root of MSE and provides an easily interpretable measure of the model's average prediction error.\n",
        "\n",
        "* Coefficient of Determination (R-squared): R-squared measures the proportion of variance in the target variable that can be explained by the model, with higher values indicating a better fit.\n",
        "\n",
        "* Time Series Plots: Visualizations such as time series plots, which show the actual and predicted demand/sales values over time, can help identify any trends or patterns in the data that the model may have missed.\n",
        "\n",
        "* Residual Plots: Residual plots, which show the differences between the actual and predicted values, can help identify any systematic biases or errors in the model's predictions.\n",
        "\n",
        "* Cross-Validation: Cross-validation techniques, such as k-fold cross-validation, can help estimate the model's performance on new data by testing it on multiple subsets of the available data.\n",
        "\n",
        "The choice of evaluation metrics and techniques would depend on the specific requirements of Meesho's use case and the nature of the data being analyzed. By carefully selecting appropriate evaluation methods, we can ensure that the model is accurately capturing the underlying patterns and dynamics in the data, and is able to make reliable predictions of demand/sales for different products and time periods."
      ],
      "metadata": {
        "id": "NTuEjZiwWlZb"
      }
    },
    {
      "cell_type": "markdown",
      "source": [
        "### Answer the following 15 questions:"
      ],
      "metadata": {
        "id": "M6c6rzMLWnCR"
      }
    },
    {
      "cell_type": "markdown",
      "source": [
        "### **1. What is the difference between ETL and ELT? What are the steps of ETL process?**"
      ],
      "metadata": {
        "id": "vCtEl9w2YCdM"
      }
    },
    {
      "cell_type": "markdown",
      "source": [
        "### **2. What is Bayes’ Theorem? What is posterior and  likelihood?**"
      ],
      "metadata": {
        "id": "bwgGATeIZVY5"
      }
    },
    {
      "cell_type": "markdown",
      "source": [
        "### **3. What is dimensionality reduction? What is the difference between LDA and PCA?**"
      ],
      "metadata": {
        "id": "cVvH39zGa54x"
      }
    },
    {
      "cell_type": "markdown",
      "source": [
        "### **4. What is the difference between Sample and Population? What is Sample Size? Mention various types of sampling techniques.**"
      ],
      "metadata": {
        "id": "GPeuPeX0bFVh"
      }
    },
    {
      "cell_type": "markdown",
      "source": [
        "### **5. What is the difference between TF-IDF and Word2Vec?**"
      ],
      "metadata": {
        "id": "MJdTCDTtbObw"
      }
    },
    {
      "cell_type": "markdown",
      "source": [
        "### **6. How do you explain a machine learning algorithm to an MBA student?**"
      ],
      "metadata": {
        "id": "6ydGqW1fbrbo"
      }
    },
    {
      "cell_type": "markdown",
      "source": [
        "### **7. What is the difference between Grid search and Random Search.**"
      ],
      "metadata": {
        "id": "fRKVYfAub88N"
      }
    },
    {
      "cell_type": "markdown",
      "source": [
        "### **8. What is Central Limit Theorem? What general conditions must be satisfied for the central limit theorem to hold?**"
      ],
      "metadata": {
        "id": "y2JtJLOxcYa_"
      }
    },
    {
      "cell_type": "markdown",
      "source": [
        "### **9. What is N-gram Language Model? What is the difference between Unigram, Bigram and Trigram in NLP? How do N-gram Language Models work? Also mention its applications.**"
      ],
      "metadata": {
        "id": "ao0yxAzWckCQ"
      }
    },
    {
      "cell_type": "markdown",
      "source": [
        "### **10. Executing a binary classification tree algorithm is a simple task. But how does tree splitting take place? How does the tree determine which variable to break at the root node and which at its child nodes?**"
      ],
      "metadata": {
        "id": "fBAdIEq1cnH-"
      }
    },
    {
      "cell_type": "markdown",
      "source": [
        "### **11. What are the different types of gradient descent algorithm? Differentiate  between batch, mini batch and stochastic gradient descent.**"
      ],
      "metadata": {
        "id": "zuyc_wRqcwJQ"
      }
    },
    {
      "cell_type": "markdown",
      "source": [
        "### **12. What is activation function in neural networks and what are its types? What is the difference between Sigmoid, Relu and Softmax activation fuction and which one is better?**"
      ],
      "metadata": {
        "id": "VJbDF3eKc3fn"
      }
    },
    {
      "cell_type": "markdown",
      "source": [
        "### **13. What is the difference between Collaborative and Content based Recommender Systems?**"
      ],
      "metadata": {
        "id": "tfsNElIsc5FI"
      }
    },
    {
      "cell_type": "markdown",
      "source": [
        "### **14. What is Silhouette Score? What is Probability Simplex?**"
      ],
      "metadata": {
        "id": "Vc5Sg6SQdDSW"
      }
    },
    {
      "cell_type": "markdown",
      "source": [
        "### **15. What is the difference between covariance and correlation? What are its range and domain for both?**"
      ],
      "metadata": {
        "id": "w3y2JiBcdII4"
      }
    }
  ]
}
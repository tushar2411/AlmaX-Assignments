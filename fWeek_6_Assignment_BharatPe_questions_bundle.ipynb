{
  "nbformat": 4,
  "nbformat_minor": 0,
  "metadata": {
    "colab": {
      "provenance": [],
      "include_colab_link": true
    },
    "kernelspec": {
      "name": "python3",
      "display_name": "Python 3"
    },
    "language_info": {
      "name": "python"
    }
  },
  "cells": [
    {
      "cell_type": "markdown",
      "metadata": {
        "id": "view-in-github",
        "colab_type": "text"
      },
      "source": [
        "<a href=\"https://colab.research.google.com/github/tushar2411/AlmaX-Assignments/blob/main/fWeek_6_Assignment_BharatPe_questions_bundle.ipynb\" target=\"_parent\"><img src=\"https://colab.research.google.com/assets/colab-badge.svg\" alt=\"Open In Colab\"/></a>"
      ]
    },
    {
      "cell_type": "markdown",
      "source": [
        "###Guidelines for assignment:\n",
        "\n",
        "1. Create a copy of this notebook in your drive and write down the answers to each question in your own words. Avoid plagiarism.\n",
        "2. Record a video of yourself answering these questions in a manner, (with your camera on) you would in an interview. The intention is not to read out the answer you have written. Understand the concept and explain it in your words as you would to an interviewer. You can use Zoom or similar applications to record your video.\n",
        "3. Upload the recorded video to your YouTube account as an **unlisted** video and share its link in the notebook along with solutions.\n",
        "You can refer to [this video](https://youtu.be/JOr7JluzEOM) for steps to unlist your video. "
      ],
      "metadata": {
        "id": "zRy1zWXy4_VF"
      }
    },
    {
      "cell_type": "markdown",
      "source": [
        "### **Case Study Question:**\n",
        "\n",
        "1. Summarise your understanding about the company and its operations. What is the business model here?\n",
        "\n",
        "2. Conduct a SWOT (Strengths, Weaknesses, Opportunities, Threats) analysis of the firm with respect to Fintech  industry.\n",
        "\n",
        "3. What will be your approach to build a fraud detection system to detect fraudulent transactions in BharatPe platform? \n",
        "\n",
        "4. What are the features you would require to design this system?\n",
        "\n",
        "5. How do you measure the performance of the system?"
      ],
      "metadata": {
        "id": "ZaN7y7eFKy0v"
      }
    },
    {
      "cell_type": "markdown",
      "source": [
        "### Answer the following 15 questions:"
      ],
      "metadata": {
        "id": "-toTqfujU_12"
      }
    },
    {
      "cell_type": "markdown",
      "source": [
        "### **1. What are the  assumptions of  Linear Regression?**"
      ],
      "metadata": {
        "id": "XIFYb0sZK-1J"
      }
    },
    {
      "cell_type": "markdown",
      "source": [
        "Linear regression is like trying to draw a straight line through a bunch of points on a graph. You can use this line to predict what the value of something will be based on other things you know about it.\n",
        "\n",
        "Here are some assumptions we make when using linear regression:\n",
        "\n",
        "1.\n",
        "Linearity:\n",
        "The relationship between the variables being studied is linear, which means that the line we draw through the points is straight.\n",
        "\n",
        "2.\n",
        "Independence:\n",
        "Each observation in the dataset is independent of the others, which means that one data point doesn't affect another.\n",
        "\n",
        "3.\n",
        "Homoscedasticity:\n",
        "The variance of the errors (the distance between the line and each point) is the same for all values of the predictor variable.\n",
        "\n",
        "4.\n",
        "Normality:\n",
        "The errors are normally distributed, which means that they follow a bell-shaped curve.\n",
        "\n",
        "5.\n",
        "No multicollinearity:\n",
        "There is no high correlation between the predictor variables, which means that they are not measuring the same thing.\n",
        "These assumptions are important to make sure that the results of the linear regression are accurate and reliable."
      ],
      "metadata": {
        "id": "QMQdF7SLDlkF"
      }
    },
    {
      "cell_type": "markdown",
      "source": [
        "### **2. Explain how  Decision Tree Algorithm works? What is pruning in decision trees and what are its types?**"
      ],
      "metadata": {
        "id": "TUfMdQ4BLVRM"
      }
    },
    {
      "cell_type": "markdown",
      "source": [
        ">The Decision Tree Algorithm is a computer program that asks a series of questions to classify data into different categories. It constructs a tree-like model with decision nodes and leaf nodes. Each decision node represents a question about an input variable, and each leaf node represents a category or decision based on the answers to the questions.\n",
        "\n",
        ">Pruning is a technique to reduce the size of decision trees by removing unnecessary nodes to prevent overfitting. There are two types of pruning: pre-pruning and post-pruning. Pre-pruning stops the tree from growing based on a stopping criterion, and post-pruning involves growing the tree fully and then removing nodes that do not improve performance on a validation set of data."
      ],
      "metadata": {
        "id": "99FkzhoSKbO6"
      }
    },
    {
      "cell_type": "markdown",
      "source": [
        "### **3. What is  Random Forest algorithm? How does random forest  reduce overfitting?**"
      ],
      "metadata": {
        "id": "4Psn07f8LavD"
      }
    },
    {
      "cell_type": "markdown",
      "source": [
        "Random Forest is a machine learning algorithm that combines multiple decision trees to improve accuracy and reduce overfitting. It does this by training each decision tree on a random subset of the data and a random subset of the input variables. By doing this, the model becomes less sensitive to individual examples or features, which helps to reduce overfitting. Additionally, the technique of bagging is used to further reduce overfitting by averaging the outputs of multiple trees trained on different subsets of the data."
      ],
      "metadata": {
        "id": "BPIIyhR4OAQc"
      }
    },
    {
      "cell_type": "markdown",
      "source": [
        "### **4. What is the difference between Precision and Recall? Explain with example** "
      ],
      "metadata": {
        "id": "jtKqAJkwLnxz"
      }
    },
    {
      "cell_type": "markdown",
      "source": [
        "Precision and Recall are two important metrics used to evaluate the performance of a binary classification model.\n",
        "\n",
        "Precision measures the proportion of positive predictions that were correct. It is the ratio of true positives (TP) to the sum of true positives and false positives (FP).\n",
        "\n",
        "Precision = TP / (TP + FP)\n",
        "\n",
        "For example, if a spam filter predicted that 100 emails were spam, and 90 of them were actually spam, while 10 were not, the precision would be 90%.\n",
        "\n",
        "Recall, on the other hand, measures the proportion of actual positives that were correctly identified. It is the ratio of true positives (TP) to the sum of true positives and false negatives (FN).\n",
        "\n",
        "Recall = TP / (TP + FN)\n",
        "\n",
        "For example, if a medical test is used to diagnose a disease, recall measures the proportion of people with the disease who were correctly diagnosed. If the test correctly identified 80% of people with the disease and missed 20%, the recall would be 80%.\n",
        "\n",
        "In short, Precision measures the accuracy of positive predictions, while Recall measures the completeness of positive predictions."
      ],
      "metadata": {
        "id": "7M25Qmv3OX8h"
      }
    },
    {
      "cell_type": "markdown",
      "source": [
        "### **5. What is KMeans?  How do you find optimal value of k  in KMeans algorithm?**"
      ],
      "metadata": {
        "id": "IxSqWBOQLtJD"
      }
    },
    {
      "cell_type": "markdown",
      "source": [
        "KMeans is a popular unsupervised machine learning algorithm used for clustering data points into groups or clusters based on their similarity.\n",
        "\n",
        "The algorithm works by first randomly initializing k number of cluster centers in the data space, where k is a predefined number of clusters that the algorithm will attempt to create. Each data point is then assigned to the cluster center that is closest to it. The cluster centers are then recalculated based on the mean of the data points assigned to them. This process repeats until the cluster assignments no longer change, or a maximum number of iterations is reached.\n",
        "\n",
        "To find the optimal value of k in KMeans, we can use the elbow method. This involves plotting the within-cluster sum of squares (WCSS) against the number of clusters (k) and selecting the value of k where the decrease in WCSS starts to level off or form an \"elbow\".\n",
        "\n",
        "The WCSS measures the sum of the squared distances between each data point and its assigned cluster center. As the number of clusters increases, the WCSS will generally decrease, but at some point, the marginal gain in clustering performance will become smaller. The value of k at the elbow point is considered to be the optimal value.\n",
        "\n",
        "In short, KMeans is a clustering algorithm that assigns data points to k number of cluster centers and iteratively updates those centers until convergence. The optimal value of k can be found using the elbow method by plotting the WCSS against the number of clusters and selecting the k value at the elbow point."
      ],
      "metadata": {
        "id": "zVDgRcSwPcF6"
      }
    },
    {
      "cell_type": "markdown",
      "source": [
        "### **6. What is Confusion Matrix?**"
      ],
      "metadata": {
        "id": "j0nC1EquMCvL"
      }
    },
    {
      "cell_type": "markdown",
      "source": [
        "A confusion matrix is a table used to evaluate the performance of a classification model. It shows the number of true positives (TP), true negatives (TN), false positives (FP), and false negatives (FN) predicted by the model.\n",
        "\n",
        "The matrix is usually arranged in a 2x2 table, with one row representing the predicted class and one column representing the actual class. The diagonal cells represent the correct predictions (TP and TN), while the off-diagonal cells represent the incorrect predictions (FP and FN).\n",
        "\n",
        "Here's an example of a confusion matrix for a binary classification problem where the model is predicting whether an email is spam or not:"
      ],
      "metadata": {
        "id": "NHwJlqHuPwQi"
      }
    },
    {
      "cell_type": "markdown",
      "source": [
        "![Screenshot 2023-03-28 133505.png](data:image/png;base64,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)"
      ],
      "metadata": {
        "id": "fjDIypUzP94K"
      }
    },
    {
      "cell_type": "markdown",
      "source": [
        "In short, a confusion matrix is a table that shows the true and false predictions made by a classification model, allowing us to evaluate the performance of the model."
      ],
      "metadata": {
        "id": "lE1WzklzQH_k"
      }
    },
    {
      "cell_type": "markdown",
      "source": [
        "### **7. What is random sampling? Give some examples of some random sampling techniques.**"
      ],
      "metadata": {
        "id": "jG4TND7QMEy7"
      }
    },
    {
      "cell_type": "markdown",
      "source": [
        "Random sampling is a method of selecting a subset of individuals or items from a larger population in a way that each member of the population has an equal chance of being selected. It is used in many fields such as statistics, social science, market research, and quality control.\n",
        "\n",
        ">Examples of random sampling techniques include simple random sampling, stratified random sampling, cluster sampling, and systematic sampling. In simple random sampling, each member of the population has an equal chance of being selected. In stratified random sampling, the population is divided into strata, and a sample is taken from each stratum. In cluster sampling, the population is divided into clusters, and a sample of clusters is selected. In systematic sampling, a random starting point is selected, and every nth member is selected until the desired sample size is reached.\n",
        "\n",
        "Random sampling is an effective way of obtaining a representative sample from a larger population, and it can help to reduce bias in the sample selection process. It is important to use appropriate random sampling techniques to ensure that the sample is representative of the population of interest."
      ],
      "metadata": {
        "id": "t5Ive_5JQbGH"
      }
    },
    {
      "cell_type": "markdown",
      "source": [
        "### **8. What is the difference between tokenisation, lemmatization and stemming?**"
      ],
      "metadata": {
        "id": "hb8VgtsoMMR1"
      }
    },
    {
      "cell_type": "markdown",
      "source": [
        ">Tokenization is the process of breaking a text into individual words or tokens. Stemming is the process of reducing words to their root form by removing suffixes and prefixes. Lemmatization is the process of reducing words to their base or dictionary form by considering the context and part of speech.\n",
        "\n",
        ">The main difference between stemming and lemmatization is that stemming is a rule-based process that may result in the creation of non-words, whereas lemmatization uses a dictionary to convert words to their base form, resulting in valid words.\n",
        "\n",
        ">Tokenization is a preprocessing step used in natural language processing tasks such as text classification and sentiment analysis. It helps to convert raw text data into a format that can be analyzed and processed by machine learning algorithms.\n",
        "\n",
        ">Stemming and lemmatization are used to normalize text data by reducing words to their base form, which can help to reduce the dimensionality of the data and improve the performance of machine learning models."
      ],
      "metadata": {
        "id": "zZD0hkK_Q4Js"
      }
    },
    {
      "cell_type": "markdown",
      "source": [
        "### **9. How do you handle imbalance data? Mention some techniques.**"
      ],
      "metadata": {
        "id": "79n0bqAIMOCl"
      }
    },
    {
      "cell_type": "markdown",
      "source": [
        "Imbalanced data is a common problem in machine learning where the distribution of classes in the training data is unequal. This can result in poor performance of the model on the minority class.\n",
        "\n",
        ">Here are some techniques that can be used to handle imbalanced data:\n",
        "\n",
        ">Undersampling: This involves reducing the number of samples in the majority class to balance the distribution with the minority class.\n",
        "\n",
        ">Oversampling: This involves increasing the number of samples in the minority class to balance the distribution with the majority class.\n",
        "\n",
        ">Synthetic Minority Over-sampling Technique (SMOTE): This is a popular oversampling technique that generates synthetic samples for the minority class based on the characteristics of the existing samples.\n",
        "\n",
        ">Cost-sensitive learning: This involves assigning a higher misclassification cost to the minority class to encourage the model to focus more on correctly classifying the minority class."
      ],
      "metadata": {
        "id": "qe4424bJSaDw"
      }
    },
    {
      "cell_type": "markdown",
      "source": [
        "### **10. What is univariate and bivariate analysis? Mention some its techniques.**"
      ],
      "metadata": {
        "id": "98HHV5PzMTvS"
      }
    },
    {
      "cell_type": "markdown",
      "source": [
        "Univariate analysis involves the analysis of a single variable at a time, while bivariate analysis involves the analysis of two variables to determine the relationship between them.\n",
        "\n",
        "Some techniques for univariate analysis include:\n",
        "\n",
        "\n",
        "\n",
        "*   Descriptive statistics: This involves calculating measures such as mean, median, mode, and standard deviation to describe the distribution of a single variable.\n",
        "*   Histogram: This is a graphical representation of the frequency distribution of a single variable.\n",
        "\n",
        "Some techniques for bivariate analysis include:\n",
        "\n",
        "*   Scatter plot: This is a graphical representation of the relationship between two variables.\n",
        "\n",
        "\n",
        "*   Correlation analysis: This involves calculating the correlation coefficient between two variables to determine the strength and direction of the relationship.\n",
        "\n",
        "\n",
        "\n",
        "*   Chi-squared test: This is a statistical test used to determine if there is asignificant association between two categorical variables.\n",
        "\n"
      ],
      "metadata": {
        "id": "Zp4hdJQ0TGX1"
      }
    },
    {
      "cell_type": "markdown",
      "source": [
        "### **11. Describe Hypothesis Testing. How is the statistical significance of an insight assessed? What is Alpha in hypothesis testing?**"
      ],
      "metadata": {
        "id": "rRFTCJf6Mqh7"
      }
    },
    {
      "cell_type": "markdown",
      "source": [
        "Hypothesis testing is a statistical method used to determine if there is enough evidence to support a claim or hypothesis about a population based on a sample of data.\n",
        "\n",
        "The statistical significance of an insight is typically assessed by calculating a p-value, which represents the probability of obtaining the observed results or more extreme results if the null hypothesis (the claim being tested) is true.\n",
        "\n",
        "Alpha (α) is the level of significance used in hypothesis testing, which represents the maximum probability of rejecting the null hypothesis when it is actually true. The most commonly used value for alpha is 0.05. If the calculated p-value is less than alpha, the null hypothesis is rejected, and the alternative hypothesis is accepted."
      ],
      "metadata": {
        "id": "HMSpHsliVmW2"
      }
    },
    {
      "cell_type": "markdown",
      "source": [
        "### **12. What is  the difference between Label encoding and One Hot Encoding?**"
      ],
      "metadata": {
        "id": "NGekudS4Mtug"
      }
    },
    {
      "cell_type": "markdown",
      "source": [
        "Label encoding is a process of converting categorical data into numerical data by assigning a unique number to each category. This can result in misinterpretation of data as the numerical values imply an order, which may not exist.\n",
        "\n",
        "One Hot Encoding is a process of creating a binary column for each category in the data, where each column represents a unique category, and the presence or absence of a value in the column indicates the category of the data. This helps to represent categorical data without creating any artificial order.\n",
        "\n",
        "The main difference between Label encoding and One Hot Encoding is that Label encoding creates a single column of numerical values for categorical data, while One Hot Encoding creates multiple columns of binary values. One Hot Encoding is preferred over Label encoding when there is no order among the categorical variables."
      ],
      "metadata": {
        "id": "RDayAnWTWCJi"
      }
    },
    {
      "cell_type": "markdown",
      "source": [
        "### **13. What is conditional probability? If I call 2 Ubers and 3 Lyfts, what is the probability that all the Lyfts arrive first?**"
      ],
      "metadata": {
        "id": "uVqTzVRAM7mj"
      }
    },
    {
      "cell_type": "markdown",
      "source": [
        "Conditional probability is the probability of an event occurring given that another event has already occurred. It is denoted as P(A|B), which means the probability of event A given that event B has occurred.\n",
        "\n",
        "In this case, the probability of all the Lyfts arriving first can be calculated as the probability of the first Lyft arriving multiplied by the probability of the second Lyft arriving given that the first one has already arrived, multiplied by the probability of the third Lyft arriving given that the first two have already arrived.\n",
        "\n",
        "Assuming that the arrival times of the Ubers and Lyfts are independent and uniformly distributed, the probability of all the Lyfts arriving first can be calculated as:\n",
        "\n",
        "(3/5) x (2/4) x (1/3) = 0.1\n",
        "\n",
        "Therefore, the probability of all the Lyfts arriving first is 0.1 or 10%."
      ],
      "metadata": {
        "id": "cpWOOELYWTTr"
      }
    },
    {
      "cell_type": "markdown",
      "source": [
        "### **14. What are Outliers and how do you treat them?**"
      ],
      "metadata": {
        "id": "iSD3IFhUNIuM"
      }
    },
    {
      "cell_type": "markdown",
      "source": [
        "Outliers are data points that are significantly different from the other data points in a dataset. They can be caused by errors in data collection, measurement, or processing, or they can represent rare or extreme events.\n",
        "\n",
        "Here are 5 ways to treat outliers in a dataset:\n",
        "\n",
        ">Remove outliers: This involves removing data points that are identified as outliers. However, this method may result in loss of important information and can also affect the statistical properties of the dataset.\n",
        "\n",
        ">Replace outliers: This involves replacing the outliers with other values such as the mean, median, or mode of the dataset. However, this can distort the distribution of the data.\n",
        "\n",
        ">Transform the data: This involves transforming the data using mathematical functions such as logarithms or square roots. This can help to reduce the impact of outliers on the data.\n",
        "\n",
        ">Use robust statistical methods: This involves using statistical methods that are less sensitive to outliers such as median instead of mean."
      ],
      "metadata": {
        "id": "W5lqthe2WXsb"
      }
    },
    {
      "cell_type": "markdown",
      "source": [
        "### **15. What is Naive Bayes Classifier Algorithm. What do you mean by ‘Naive’ in a Naive Bayes?**"
      ],
      "metadata": {
        "id": "hjmlljMFNSWT"
      }
    },
    {
      "cell_type": "markdown",
      "source": [
        "The Naive Bayes Classifier algorithm is a probabilistic machine learning algorithm used for classification problems. It is based on Bayes' theorem and makes the assumption of independence between the features.\n",
        "\n",
        ">The term 'Naive' in Naive Bayes refers to the assumption of independence between the features. This means that the algorithm assumes that the presence or absence of a particular feature is unrelated to the presence or absence of any other feature. This assumption is often unrealistic in real-world scenarios, hence the term 'naive'.\n",
        "\n",
        ">Despite this assumption, Naive Bayes Classifier algorithm is widely used and performs well in many classification tasks. It is simple, efficient, and works well with high-dimensional data."
      ],
      "metadata": {
        "id": "7a0JtsrTXCtQ"
      }
    }
  ]
}